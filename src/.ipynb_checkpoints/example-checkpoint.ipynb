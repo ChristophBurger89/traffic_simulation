{
 "cells": [
  {
   "cell_type": "code",
   "execution_count": 12,
   "metadata": {},
   "outputs": [],
   "source": [
    "%matplotlib inline\n",
    "import numpy as np\n",
    "import matplotlib.pyplot as plt\n",
    "import seaborn as sns\n",
    "import plotly.plotly as py\n",
    "from plotly.offline import iplot, plot"
   ]
  },
  {
   "cell_type": "code",
   "execution_count": 19,
   "metadata": {},
   "outputs": [],
   "source": [
    "plotly.tools.set_credentials_file(username='horacehxw2', api_key='5km59BWdAmnV0FiTMdzP')"
   ]
  },
  {
   "cell_type": "code",
   "execution_count": 2,
   "metadata": {},
   "outputs": [],
   "source": [
    "from CarFactory import CarFactory\n",
    "from Street import Street\n",
    "from Constants import *"
   ]
  },
  {
   "cell_type": "code",
   "execution_count": 36,
   "metadata": {},
   "outputs": [],
   "source": [
    "prob_auto, prob_car = .5, .5\n",
    "num_lane = 3\n",
    "road_length = 500 # 5 km\n",
    "flow_in = 50 # vehicle per second\n",
    "\n",
    "cf = CarFactory(prob_auto, prob_car)\n",
    "road = Street(num_lane, road_length, cf)"
   ]
  },
  {
   "cell_type": "code",
   "execution_count": 37,
   "metadata": {
    "scrolled": true
   },
   "outputs": [
    {
     "name": "stdout",
     "output_type": "stream",
     "text": [
      "-----------------------------------------------------------------\n",
      "time =  0.50\n",
      "total vehicle:        3, average speed 29.43, flow in 0.00 vehicle/s, flow out 0.00 vehicle/s\n",
      "\t min speed: 23.97, max speed: 33.33\n",
      "\t number of cars in each lane [1. 1. 1.]\n",
      "-----------------------------------------------------------------\n",
      "-----------------------------------------------------------------\n",
      "time = 10.50\n",
      "total vehicle:       27, average speed 21.53, flow in 0.00 vehicle/s, flow out 0.00 vehicle/s\n",
      "\t min speed: 10.42, max speed: 33.33\n",
      "\t number of cars in each lane [ 9. 10.  8.]\n",
      "-----------------------------------------------------------------\n",
      "-----------------------------------------------------------------\n",
      "time = 20.50\n",
      "total vehicle:       49, average speed 20.67, flow in 0.00 vehicle/s, flow out 0.00 vehicle/s\n",
      "\t min speed: 10.42, max speed: 33.26\n",
      "\t number of cars in each lane [19. 14. 16.]\n",
      "-----------------------------------------------------------------\n",
      "-----------------------------------------------------------------\n",
      "time = 30.50\n",
      "total vehicle:       53, average speed 17.58, flow in 0.00 vehicle/s, flow out 0.00 vehicle/s\n",
      "\t min speed: 10.42, max speed: 33.26\n",
      "\t number of cars in each lane [18. 18. 17.]\n",
      "-----------------------------------------------------------------\n",
      "-----------------------------------------------------------------\n",
      "time = 40.50\n",
      "total vehicle:       66, average speed 17.40, flow in 0.00 vehicle/s, flow out 0.00 vehicle/s\n",
      "\t min speed: 10.42, max speed: 33.31\n",
      "\t number of cars in each lane [22. 23. 21.]\n",
      "-----------------------------------------------------------------\n",
      "-----------------------------------------------------------------\n",
      "time = 50.50\n",
      "total vehicle:       70, average speed 16.51, flow in 0.00 vehicle/s, flow out 0.00 vehicle/s\n",
      "\t min speed: 10.42, max speed: 33.31\n",
      "\t number of cars in each lane [25. 18. 27.]\n",
      "-----------------------------------------------------------------\n",
      "-----------------------------------------------------------------\n",
      "time = 60.50\n",
      "total vehicle:       69, average speed 16.66, flow in 0.00 vehicle/s, flow out 0.00 vehicle/s\n",
      "\t min speed: 10.42, max speed: 33.26\n",
      "\t number of cars in each lane [23. 21. 25.]\n",
      "-----------------------------------------------------------------\n",
      "-----------------------------------------------------------------\n",
      "time = 70.50\n",
      "total vehicle:       77, average speed 18.05, flow in 0.00 vehicle/s, flow out 0.00 vehicle/s\n",
      "\t min speed: 10.42, max speed: 33.30\n",
      "\t number of cars in each lane [24. 24. 29.]\n",
      "-----------------------------------------------------------------\n",
      "-----------------------------------------------------------------\n",
      "time = 80.50\n",
      "total vehicle:       75, average speed 17.64, flow in 0.00 vehicle/s, flow out 0.00 vehicle/s\n",
      "\t min speed: 10.42, max speed: 33.30\n",
      "\t number of cars in each lane [28. 19. 28.]\n",
      "-----------------------------------------------------------------\n",
      "-----------------------------------------------------------------\n",
      "time = 90.50\n",
      "total vehicle:       65, average speed 14.71, flow in 0.00 vehicle/s, flow out 0.00 vehicle/s\n",
      "\t min speed: 10.56, max speed: 33.24\n",
      "\t number of cars in each lane [20. 25. 20.]\n",
      "-----------------------------------------------------------------\n"
     ]
    }
   ],
   "source": [
    "for i in range(10000):\n",
    "    road.update(flow_in)\n",
    "    road.dt = 0.1\n",
    "    if i % 100 == 0:\n",
    "        road.report()"
   ]
  },
  {
   "cell_type": "code",
   "execution_count": null,
   "metadata": {},
   "outputs": [],
   "source": [
    "import plotly.graph_objs as go\n",
    "color_map = dict()\n",
    "color_map['0'] = 'rgb(255, 0, 0)'\n",
    "color_map['1'] = 'rgb(204, 204, 0)'\n",
    "color_map['2'] = 'rgb(0, 255, 0)'\n",
    "color_map['3'] = 'rgb(0, 204, 204)'\n",
    "color_map['4'] = 'rgb(0, 0, 255)'\n",
    "\n",
    "def generate_fig(road):\n",
    "    '''\n",
    "    Input:\n",
    "        street = list of \"Moveable\" --> Car or CarHuman\n",
    "    Return:\n",
    "        plolty fig\n",
    "    '''\n",
    "    lane_width = 5 # 5 m\n",
    "    traces = []\n",
    "    for car in road.street:\n",
    "        trace = go.Scatter(x = [car.pos, car.pos+car.length],\n",
    "                           y = [car.lane + 1, car.lane + 1],\n",
    "                           mode = 'lines',\n",
    "                           marker = dict( color = color_map['{}'.format(int(car.vel / (8)))]\n",
    "                                           ))\n",
    "        traces.append(trace)\n",
    "    layout = go.Layout(title='traffic simulation at time {:4.1f}s'.format(road.time),\n",
    "                       xaxis=dict(title='distance (meters)'),\n",
    "                       yaxis=dict(title='lane number',\n",
    "                                    showgrid=True,\n",
    "                                    zeroline=False,\n",
    "                                    showline=False,\n",
    "                                    showticklabels=True),\n",
    "                       showlegend=False)\n",
    "    return go.Figure(data= traces, layout=layout)"
   ]
  },
  {
   "cell_type": "code",
   "execution_count": null,
   "metadata": {},
   "outputs": [],
   "source": [
    "fig = generate_fig(road)"
   ]
  },
  {
   "cell_type": "code",
   "execution_count": null,
   "metadata": {
    "scrolled": false
   },
   "outputs": [],
   "source": [
    "py.iplot(fig)"
   ]
  },
  {
   "cell_type": "code",
   "execution_count": null,
   "metadata": {},
   "outputs": [],
   "source": []
  },
  {
   "cell_type": "code",
   "execution_count": null,
   "metadata": {},
   "outputs": [],
   "source": []
  }
 ],
 "metadata": {
  "kernelspec": {
   "display_name": "Python 3",
   "language": "python",
   "name": "python3"
  },
  "language_info": {
   "codemirror_mode": {
    "name": "ipython",
    "version": 3
   },
   "file_extension": ".py",
   "mimetype": "text/x-python",
   "name": "python",
   "nbconvert_exporter": "python",
   "pygments_lexer": "ipython3",
   "version": "3.6.0"
  }
 },
 "nbformat": 4,
 "nbformat_minor": 1
}
